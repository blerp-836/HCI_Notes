{
  "nbformat": 4,
  "nbformat_minor": 0,
  "metadata": {
    "colab": {
      "provenance": [],
      "authorship_tag": "ABX9TyOm/vUaMqbpAHl7pcKmEj35",
      "include_colab_link": true
    },
    "kernelspec": {
      "name": "python3",
      "display_name": "Python 3"
    },
    "language_info": {
      "name": "python"
    }
  },
  "cells": [
    {
      "cell_type": "markdown",
      "metadata": {
        "id": "view-in-github",
        "colab_type": "text"
      },
      "source": [
        "<a href=\"https://colab.research.google.com/github/blerp-836/HCI_Notes/blob/master/create_training_data_lora.ipynb\" target=\"_parent\"><img src=\"https://colab.research.google.com/assets/colab-badge.svg\" alt=\"Open In Colab\"/></a>"
      ]
    },
    {
      "cell_type": "markdown",
      "source": [
        "https://huggingface.co/docs/datasets/en/image_dataset#imagefolder\n",
        "\n",
        "\n",
        "use ImageFolder technique\n",
        "\n",
        "\n",
        "\n",
        "1.   Create /data/train/image.png\n",
        "2.   Create metadata.csv in the /data/train/metadata.csv\n",
        "\n",
        "download the files through the API. save the image. for the metadata write it to the metadata.csv\n",
        "\n",
        "\n",
        "\n"
      ],
      "metadata": {
        "id": "ELuvvR60tcUQ"
      }
    },
    {
      "cell_type": "code",
      "execution_count": null,
      "metadata": {
        "colab": {
          "base_uri": "https://localhost:8080/"
        },
        "id": "dNmVDvDToWNr",
        "outputId": "6d102cb5-9e61-4003-fa6e-5f1662b44bea"
      },
      "outputs": [
        {
          "output_type": "stream",
          "name": "stdout",
          "text": [
            "Mounted at /content/drive\n"
          ]
        }
      ],
      "source": [
        "from google.colab import drive\n",
        "drive.mount('/content/drive')\n"
      ]
    },
    {
      "cell_type": "code",
      "source": [
        "!git lfs install\n",
        "!git lfs clone https://github.com/metmuseum/openaccess"
      ],
      "metadata": {
        "colab": {
          "base_uri": "https://localhost:8080/"
        },
        "id": "VrFuORp0pbTb",
        "outputId": "09204d6e-418f-4b3b-964e-c16abf74832e"
      },
      "execution_count": null,
      "outputs": [
        {
          "output_type": "stream",
          "name": "stdout",
          "text": [
            "Git LFS initialized.\n",
            "WARNING: 'git lfs clone' is deprecated and will not be updated\n",
            "          with new flags from 'git clone'\n",
            "\n",
            "'git clone' has been updated in upstream Git to have comparable\n",
            "speeds to 'git lfs clone'.\n",
            "fatal: destination path 'openaccess' already exists and is not an empty directory.\n",
            "Error(s) during clone:\n",
            "git clone failed: exit status 128\n"
          ]
        }
      ]
    },
    {
      "cell_type": "code",
      "source": [
        "!pip install pyspark"
      ],
      "metadata": {
        "colab": {
          "base_uri": "https://localhost:8080/"
        },
        "id": "_0cITeDHtCge",
        "outputId": "45942adb-76d2-4be9-baba-39edfb424b47"
      },
      "execution_count": null,
      "outputs": [
        {
          "output_type": "stream",
          "name": "stdout",
          "text": [
            "Collecting pyspark\n",
            "  Downloading pyspark-3.5.0.tar.gz (316.9 MB)\n",
            "\u001b[2K     \u001b[90m━━━━━━━━━━━━━━━━━━━━━━━━━━━━━━━━━━━━━━━━\u001b[0m \u001b[32m316.9/316.9 MB\u001b[0m \u001b[31m3.7 MB/s\u001b[0m eta \u001b[36m0:00:00\u001b[0m\n",
            "\u001b[?25h  Preparing metadata (setup.py) ... \u001b[?25l\u001b[?25hdone\n",
            "Requirement already satisfied: py4j==0.10.9.7 in /usr/local/lib/python3.10/dist-packages (from pyspark) (0.10.9.7)\n",
            "Building wheels for collected packages: pyspark\n",
            "  Building wheel for pyspark (setup.py) ... \u001b[?25l\u001b[?25hdone\n",
            "  Created wheel for pyspark: filename=pyspark-3.5.0-py2.py3-none-any.whl size=317425345 sha256=acdb444a435927bc973755de55bbf1943bd01310920e5ef8991511012d9393dd\n",
            "  Stored in directory: /root/.cache/pip/wheels/41/4e/10/c2cf2467f71c678cfc8a6b9ac9241e5e44a01940da8fbb17fc\n",
            "Successfully built pyspark\n",
            "Installing collected packages: pyspark\n",
            "Successfully installed pyspark-3.5.0\n"
          ]
        }
      ]
    },
    {
      "cell_type": "code",
      "source": [
        "!pip install delta-spark"
      ],
      "metadata": {
        "colab": {
          "base_uri": "https://localhost:8080/"
        },
        "id": "6SNRuLN7t3ac",
        "outputId": "86d2da4b-1eac-4d87-fcc7-ceb744ed51d0"
      },
      "execution_count": null,
      "outputs": [
        {
          "output_type": "stream",
          "name": "stdout",
          "text": [
            "Collecting delta-spark\n",
            "  Downloading delta_spark-3.1.0-py3-none-any.whl (21 kB)\n",
            "Requirement already satisfied: pyspark<3.6.0,>=3.5.0 in /usr/local/lib/python3.10/dist-packages (from delta-spark) (3.5.0)\n",
            "Requirement already satisfied: importlib-metadata>=1.0.0 in /usr/local/lib/python3.10/dist-packages (from delta-spark) (7.0.1)\n",
            "Requirement already satisfied: zipp>=0.5 in /usr/local/lib/python3.10/dist-packages (from importlib-metadata>=1.0.0->delta-spark) (3.17.0)\n",
            "Requirement already satisfied: py4j==0.10.9.7 in /usr/local/lib/python3.10/dist-packages (from pyspark<3.6.0,>=3.5.0->delta-spark) (0.10.9.7)\n",
            "Installing collected packages: delta-spark\n",
            "Successfully installed delta-spark-3.1.0\n"
          ]
        }
      ]
    },
    {
      "cell_type": "code",
      "source": [
        "# prompt: initiate spark session\n",
        "\n",
        "from pyspark.sql import SparkSession\n",
        "\n",
        "spark = SparkSession.builder.appName(\"myApp\").getOrCreate()\n"
      ],
      "metadata": {
        "id": "Ki4Vp26Dt_QB"
      },
      "execution_count": null,
      "outputs": []
    },
    {
      "cell_type": "code",
      "source": [
        "df=spark.read.option('header',True).option('inferSchema',True)\\\n",
        "    .option(\"multiline\", \"true\")\\\n",
        "    .option(\"delimiter\", \",\") \\\n",
        "    .option(\"quote\", \"\\\"\") \\\n",
        "    .option(\"escape\", \"\\\"\") \\\n",
        "    .csv('/content/openaccess/MetObjects.csv')\n"
      ],
      "metadata": {
        "id": "PL1KrFr2unjj"
      },
      "execution_count": null,
      "outputs": []
    },
    {
      "cell_type": "code",
      "source": [
        "df.createOrReplaceTempView('df_view')\n",
        "df.filter(df[''])"
      ],
      "metadata": {
        "colab": {
          "base_uri": "https://localhost:8080/"
        },
        "id": "kuzjHtm9vSDA",
        "outputId": "dac96635-32bd-42c4-8eb1-0dfda587765f"
      },
      "execution_count": null,
      "outputs": [
        {
          "output_type": "execute_result",
          "data": {
            "text/plain": [
              "['Object Number',\n",
              " 'Is Highlight',\n",
              " 'Is Timeline Work',\n",
              " 'Is Public Domain',\n",
              " 'Object ID',\n",
              " 'Gallery Number',\n",
              " 'Department',\n",
              " 'AccessionYear',\n",
              " 'Object Name',\n",
              " 'Title',\n",
              " 'Culture',\n",
              " 'Period',\n",
              " 'Dynasty',\n",
              " 'Reign',\n",
              " 'Portfolio',\n",
              " 'Constituent ID',\n",
              " 'Artist Role',\n",
              " 'Artist Prefix',\n",
              " 'Artist Display Name',\n",
              " 'Artist Display Bio',\n",
              " 'Artist Suffix',\n",
              " 'Artist Alpha Sort',\n",
              " 'Artist Nationality',\n",
              " 'Artist Begin Date',\n",
              " 'Artist End Date',\n",
              " 'Artist Gender',\n",
              " 'Artist ULAN URL',\n",
              " 'Artist Wikidata URL',\n",
              " 'Object Date',\n",
              " 'Object Begin Date',\n",
              " 'Object End Date',\n",
              " 'Medium',\n",
              " 'Dimensions',\n",
              " 'Credit Line',\n",
              " 'Geography Type',\n",
              " 'City',\n",
              " 'State',\n",
              " 'County',\n",
              " 'Country',\n",
              " 'Region',\n",
              " 'Subregion',\n",
              " 'Locale',\n",
              " 'Locus',\n",
              " 'Excavation',\n",
              " 'River',\n",
              " 'Classification',\n",
              " 'Rights and Reproduction',\n",
              " 'Link Resource',\n",
              " 'Object Wikidata URL',\n",
              " 'Metadata Date',\n",
              " 'Repository',\n",
              " 'Tags',\n",
              " 'Tags AAT URL',\n",
              " 'Tags Wikidata URL']"
            ]
          },
          "metadata": {},
          "execution_count": 25
        }
      ]
    },
    {
      "cell_type": "code",
      "source": [
        "df.createOrReplaceTempView('df_view')\n",
        "df\\\n",
        ".filter(df['Department'].startswith('European'))\\\n",
        ".filter(df['Object End Date']<1700).filter(df['Object End Date']>0)\\\n",
        ".filter(df['Artist Nationality'].startswith('Italian'))\\\n",
        ".filter(df['Object Name'].startswith('Painting'))\\\n",
        ".filter(df['is Public Domain'].startswith('true'))\\\n",
        ".count()"
      ],
      "metadata": {
        "colab": {
          "base_uri": "https://localhost:8080/"
        },
        "outputId": "6472ae19-0263-4395-d551-a1e203876fbc",
        "id": "otdVCeBny-ZO"
      },
      "execution_count": null,
      "outputs": [
        {
          "output_type": "execute_result",
          "data": {
            "text/plain": [
              "407"
            ]
          },
          "metadata": {},
          "execution_count": 48
        }
      ]
    },
    {
      "cell_type": "markdown",
      "source": [
        "Object\n",
        "GET /public/collection/v1/objects/[objectID] returns a record for an object, containing all open access data about that object, including its image (if the image is available under Open Access)\n",
        "\n",
        "\n",
        "https://collectionapi.metmuseum.org/public/collection/v1/objects/[objectID]"
      ],
      "metadata": {
        "id": "yE1AXmNWxO44"
      }
    },
    {
      "cell_type": "code",
      "source": [],
      "metadata": {
        "id": "U2f3xPaKvR8Q"
      },
      "execution_count": null,
      "outputs": []
    }
  ]
}